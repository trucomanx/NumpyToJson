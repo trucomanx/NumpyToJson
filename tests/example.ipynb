{
 "cells": [
  {
   "cell_type": "code",
   "execution_count": 2,
   "id": "40a25d22-37d7-493d-858b-402c00224ca0",
   "metadata": {},
   "outputs": [],
   "source": [
    "#import os\n",
    "import sys\n",
    "sys.path.append('../src');\n",
    "import NumpyToJson as n2j\n",
    "\n",
    "import numpy as np"
   ]
  },
  {
   "cell_type": "code",
   "execution_count": 3,
   "id": "91fb32cf-a802-472d-a1d7-5f97c12ab6d0",
   "metadata": {},
   "outputs": [],
   "source": [
    "mat=np.array([[1,2,3,4],[5,6,7,8]]);\n",
    "n2j.numpy_to_json_file('etiqueta1',mat,\"salida.json\")"
   ]
  },
  {
   "cell_type": "code",
   "execution_count": null,
   "id": "e4988749-3fbb-499e-8e56-e85486acdc82",
   "metadata": {},
   "outputs": [],
   "source": []
  }
 ],
 "metadata": {
  "kernelspec": {
   "display_name": "Python 3",
   "language": "python",
   "name": "python3"
  },
  "language_info": {
   "codemirror_mode": {
    "name": "ipython",
    "version": 3
   },
   "file_extension": ".py",
   "mimetype": "text/x-python",
   "name": "python",
   "nbconvert_exporter": "python",
   "pygments_lexer": "ipython3",
   "version": "3.8.10"
  }
 },
 "nbformat": 4,
 "nbformat_minor": 5
}
